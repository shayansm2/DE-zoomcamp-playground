{
  "cells": [
    {
      "cell_type": "markdown",
      "metadata": {
        "id": "mrTFv5nPClXh"
      },
      "source": [
        "# **Homework**: Data talks club data engineering zoomcamp Data loading workshop"
      ]
    },
    {
      "cell_type": "markdown",
      "metadata": {
        "id": "wLF4iXf-NR7t"
      },
      "source": [
        "# 1. Use a generator\n",
        "\n",
        "Remember the concept of generator? Let's practice using them to futher our understanding of how they work.\n",
        "\n",
        "Let's define a generator and then run it as practice.\n",
        "\n",
        "**Answer the following questions:**\n",
        "\n",
        "**Question 1: What is the sum of the outputs of the generator for limit = 5?**\n",
        "- **A**: 10.23433234744176\n",
        "- **B**: 7.892332347441762\n",
        "- **C**: 8.382332347441762 ✅\n",
        "- **D**: 9.123332347441762\n",
        "\n",
        "**Question 2: What is the 13th number yielded**\n",
        "- **A**: 4.236551275463989\n",
        "- **B**: 3.605551275463989 ✅\n",
        "- **C**: 2.345551275463989\n",
        "- **D**: 5.678551275463989\n",
        "\n",
        "I suggest practicing these questions without GPT as the purpose is to further your learning."
      ]
    },
    {
      "cell_type": "code",
      "execution_count": 4,
      "metadata": {
        "colab": {
          "base_uri": "https://localhost:8080/"
        },
        "id": "wLng-bDJN4jf",
        "outputId": "547683cb-5f56-4815-a903-d0d9578eb1f9"
      },
      "outputs": [
        {
          "name": "stdout",
          "output_type": "stream",
          "text": [
            "8.382332347441762\n",
            "3.605551275463989\n"
          ]
        }
      ],
      "source": [
        "def square_root_generator(limit):\n",
        "    n = 1\n",
        "    while n <= limit:\n",
        "        yield n ** 0.5\n",
        "        n += 1\n",
        "\n",
        "# Example usage:\n",
        "limit = 5\n",
        "generator = square_root_generator(limit)\n",
        "\n",
        "summation = 0\n",
        "for sqrt_value in generator:\n",
        "    summation += sqrt_value\n",
        "\n",
        "print(summation)\n",
        "#######################################\n",
        "for result in square_root_generator(13):\n",
        "    continue\n",
        "print(result)"
      ]
    },
    {
      "cell_type": "markdown",
      "metadata": {
        "id": "vjWhILzGJMpK"
      },
      "source": [
        "# 2. Append a generator to a table with existing data\n",
        "\n",
        "\n",
        "Below you have 2 generators. You will be tasked to load them to duckdb and answer some questions from the data\n",
        "\n",
        "1. Load the first generator and calculate the sum of ages of all people. Make sure to only load it once.\n",
        "2. Append the second generator to the same table as the first.\n",
        "3. **After correctly appending the data, calculate the sum of all ages of people.**\n",
        "- **A**: 353 ✅\n",
        "- **B**: 365\n",
        "- **C**: 378\n",
        "- **D**: 390\n",
        "\n",
        "\n"
      ]
    },
    {
      "cell_type": "code",
      "execution_count": 32,
      "metadata": {
        "colab": {
          "base_uri": "https://localhost:8080/"
        },
        "id": "2MoaQcdLBEk6",
        "outputId": "d2b93dc1-d83f-44ea-aeff-fdf51d75f7aa"
      },
      "outputs": [
        {
          "name": "stdout",
          "output_type": "stream",
          "text": [
            "{'ID': 1, 'Name': 'Person_1', 'Age': 26, 'City': 'City_A'}\n",
            "{'ID': 2, 'Name': 'Person_2', 'Age': 27, 'City': 'City_A'}\n",
            "{'ID': 3, 'Name': 'Person_3', 'Age': 28, 'City': 'City_A'}\n",
            "{'ID': 4, 'Name': 'Person_4', 'Age': 29, 'City': 'City_A'}\n",
            "{'ID': 5, 'Name': 'Person_5', 'Age': 30, 'City': 'City_A'}\n",
            "{'ID': 3, 'Name': 'Person_3', 'Age': 33, 'City': 'City_B', 'Occupation': 'Job_3'}\n",
            "{'ID': 4, 'Name': 'Person_4', 'Age': 34, 'City': 'City_B', 'Occupation': 'Job_4'}\n",
            "{'ID': 5, 'Name': 'Person_5', 'Age': 35, 'City': 'City_B', 'Occupation': 'Job_5'}\n",
            "{'ID': 6, 'Name': 'Person_6', 'Age': 36, 'City': 'City_B', 'Occupation': 'Job_6'}\n",
            "{'ID': 7, 'Name': 'Person_7', 'Age': 37, 'City': 'City_B', 'Occupation': 'Job_7'}\n",
            "{'ID': 8, 'Name': 'Person_8', 'Age': 38, 'City': 'City_B', 'Occupation': 'Job_8'}\n"
          ]
        }
      ],
      "source": [
        "def people_1():\n",
        "    for i in range(1, 6):\n",
        "        yield {\"ID\": i, \"Name\": f\"Person_{i}\", \"Age\": 25 + i, \"City\": \"City_A\"}\n",
        "\n",
        "for person in people_1():\n",
        "    print(person)\n",
        "\n",
        "\n",
        "def people_2():\n",
        "    for i in range(3, 9):\n",
        "        yield {\"ID\": i, \"Name\": f\"Person_{i}\", \"Age\": 30 + i, \"City\": \"City_B\", \"Occupation\": f\"Job_{i}\"}\n",
        "\n",
        "\n",
        "for person in people_2():\n",
        "    print(person)\n"
      ]
    },
    {
      "cell_type": "code",
      "execution_count": 33,
      "metadata": {},
      "outputs": [],
      "source": [
        "import dlt\n",
        "import duckdb"
      ]
    },
    {
      "cell_type": "code",
      "execution_count": 34,
      "metadata": {},
      "outputs": [
        {
          "name": "stderr",
          "output_type": "stream",
          "text": [
            "/Users/shayan/miniconda3/envs/py10/lib/python3.10/site-packages/dlt/pipeline/__init__.py:108: Dlt04DeprecationWarning: The `credentials argument` to pipeline is deprecated and will be removed in a future version. Pass the same credentials to the `destination` instance instead, e.g. pipeline(destination=dlt.destinations.duckdb(credentials=...)). Deprecated in dlt 0.4.0 to be removed in 0.5.0.\n",
            "  credentials_argument_deprecated(\"pipeline\", credentials, destination)\n"
          ]
        }
      ],
      "source": [
        "pipeline = dlt.pipeline(destination=\"duckdb\", dataset_name=\"people\", credentials=\"data.db\")"
      ]
    },
    {
      "cell_type": "code",
      "execution_count": 35,
      "metadata": {},
      "outputs": [
        {
          "name": "stderr",
          "output_type": "stream",
          "text": [
            "2024-02-12 11:06:36,498|[WARNING              ]|79021|8017170432|dlt|configuration.py|_path_from_pipeline:180|Duckdb attached to pipeline dlt_ipykernel_launcher in path data.db was deleted. Attaching to duckdb database 'dlt_ipykernel_launcher.duckdb' in current folder.\n",
            "2024-02-12 11:06:36,869|[WARNING              ]|79021|8017170432|dlt|configuration.py|_path_from_pipeline:180|Duckdb attached to pipeline dlt_ipykernel_launcher in path data.db was deleted. Attaching to duckdb database 'dlt_ipykernel_launcher.duckdb' in current folder.\n"
          ]
        },
        {
          "name": "stdout",
          "output_type": "stream",
          "text": [
            "Pipeline dlt_ipykernel_launcher load step completed in 0.17 seconds\n",
            "1 load package(s) were loaded to destination duckdb and into dataset people\n",
            "The duckdb destination used duckdb:////Users/shayan/personal/DE-zoomcamp-playground/workshop1/data.db location to store data\n",
            "Load package 1707723396.526774 is LOADED and contains no failed jobs\n"
          ]
        }
      ],
      "source": [
        "info = pipeline.run(people_1(), table_name=\"people\", write_disposition=\"replace\")\n",
        "print(info)"
      ]
    },
    {
      "cell_type": "code",
      "execution_count": 36,
      "metadata": {},
      "outputs": [
        {
          "name": "stdout",
          "output_type": "stream",
          "text": [
            "people\n",
            "Loaded tables: \n"
          ]
        },
        {
          "data": {
            "text/plain": [
              "┌─────────────────────┐\n",
              "│        name         │\n",
              "│       varchar       │\n",
              "├─────────────────────┤\n",
              "│ _dlt_loads          │\n",
              "│ _dlt_pipeline_state │\n",
              "│ _dlt_version        │\n",
              "│ people              │\n",
              "│ people_1            │\n",
              "│ people_with_id      │\n",
              "└─────────────────────┘"
            ]
          },
          "metadata": {},
          "output_type": "display_data"
        }
      ],
      "source": [
        "print(pipeline.dataset_name)\n",
        "conn = duckdb.connect(\"data.db\")\n",
        "conn.sql(f\"SET search_path = '{pipeline.dataset_name}'\")\n",
        "print('Loaded tables: ')\n",
        "display(conn.sql(\"show tables\"))"
      ]
    },
    {
      "cell_type": "code",
      "execution_count": 37,
      "metadata": {},
      "outputs": [
        {
          "data": {
            "text/plain": [
              "┌──────────┐\n",
              "│ sum(age) │\n",
              "│  int128  │\n",
              "├──────────┤\n",
              "│      140 │\n",
              "└──────────┘"
            ]
          },
          "execution_count": 37,
          "metadata": {},
          "output_type": "execute_result"
        }
      ],
      "source": [
        "conn.sql(\"SELECT sum(age) FROM people\")"
      ]
    },
    {
      "cell_type": "code",
      "execution_count": 38,
      "metadata": {},
      "outputs": [
        {
          "name": "stderr",
          "output_type": "stream",
          "text": [
            "2024-02-12 11:07:03,644|[WARNING              ]|79021|8017170432|dlt|configuration.py|_path_from_pipeline:180|Duckdb attached to pipeline dlt_ipykernel_launcher in path data.db was deleted. Attaching to duckdb database 'dlt_ipykernel_launcher.duckdb' in current folder.\n"
          ]
        }
      ],
      "source": [
        "info = pipeline.run(people_2(), table_name=\"people\", write_disposition=\"append\")"
      ]
    },
    {
      "cell_type": "code",
      "execution_count": 39,
      "metadata": {},
      "outputs": [
        {
          "data": {
            "text/plain": [
              "┌──────────┐\n",
              "│ sum(age) │\n",
              "│  int128  │\n",
              "├──────────┤\n",
              "│      353 │\n",
              "└──────────┘"
            ]
          },
          "execution_count": 39,
          "metadata": {},
          "output_type": "execute_result"
        }
      ],
      "source": [
        "conn.sql(\"SELECT sum(age) FROM people\")"
      ]
    },
    {
      "cell_type": "markdown",
      "metadata": {
        "id": "pY4cFAWOSwN1"
      },
      "source": [
        "# 3. Merge a generator\n",
        "\n",
        "Re-use the generators from Exercise 2.\n",
        "\n",
        "A table's primary key needs to be created from the start, so load your data to a new table with primary key ID.\n",
        "\n",
        "Load your first generator first, and then load the second one with merge. Since they have overlapping IDs, some of the records from the first load should be replaced by the ones from the second load.\n",
        "\n",
        "After loading, you should have a total of 8 records, and ID 3 should have age 33.\n",
        "\n",
        "Question: **Calculate the sum of ages of all the people loaded as described above.**\n",
        "- **A**: 215\n",
        "- **B**: 266 ✅\n",
        "- **C**: 241\n",
        "- **D**: 258"
      ]
    },
    {
      "cell_type": "code",
      "execution_count": 40,
      "metadata": {},
      "outputs": [
        {
          "name": "stderr",
          "output_type": "stream",
          "text": [
            "2024-02-12 11:07:20,803|[WARNING              ]|79021|8017170432|dlt|configuration.py|_path_from_pipeline:180|Duckdb attached to pipeline dlt_ipykernel_launcher in path data.db was deleted. Attaching to duckdb database 'dlt_ipykernel_launcher.duckdb' in current folder.\n"
          ]
        },
        {
          "data": {
            "text/plain": [
              "┌───────┬──────────┬───────┬─────────┬───────────────────┬────────────────┬────────────┐\n",
              "│  id   │   name   │  age  │  city   │   _dlt_load_id    │    _dlt_id     │ occupation │\n",
              "│ int64 │ varchar  │ int64 │ varchar │      varchar      │    varchar     │  varchar   │\n",
              "├───────┼──────────┼───────┼─────────┼───────────────────┼────────────────┼────────────┤\n",
              "│     1 │ Person_1 │    26 │ City_A  │ 1707723440.459401 │ F2RYTfijGmFRFA │ NULL       │\n",
              "│     2 │ Person_2 │    27 │ City_A  │ 1707723440.459401 │ PEP+6ABW2o1Gaw │ NULL       │\n",
              "│     3 │ Person_3 │    28 │ City_A  │ 1707723440.459401 │ bHrPSUS95OyRJQ │ NULL       │\n",
              "│     4 │ Person_4 │    29 │ City_A  │ 1707723440.459401 │ /iuk5Rx1KjB4/Q │ NULL       │\n",
              "│     5 │ Person_5 │    30 │ City_A  │ 1707723440.459401 │ +afaX5YZs7jSmg │ NULL       │\n",
              "└───────┴──────────┴───────┴─────────┴───────────────────┴────────────────┴────────────┘"
            ]
          },
          "execution_count": 40,
          "metadata": {},
          "output_type": "execute_result"
        }
      ],
      "source": [
        "info = pipeline.run(people_1(), table_name=\"people_with_id\", write_disposition=\"replace\", primary_key=\"id\")\n",
        "conn.sql('select * from people_with_id;')"
      ]
    },
    {
      "cell_type": "code",
      "execution_count": 41,
      "metadata": {},
      "outputs": [
        {
          "name": "stderr",
          "output_type": "stream",
          "text": [
            "2024-02-12 11:07:23,612|[WARNING              ]|79021|8017170432|dlt|configuration.py|_path_from_pipeline:180|Duckdb attached to pipeline dlt_ipykernel_launcher in path data.db was deleted. Attaching to duckdb database 'dlt_ipykernel_launcher.duckdb' in current folder.\n"
          ]
        },
        {
          "data": {
            "text/plain": [
              "┌───────┬──────────┬───────┬─────────┬───────────────────┬────────────────┬────────────┐\n",
              "│  id   │   name   │  age  │  city   │   _dlt_load_id    │    _dlt_id     │ occupation │\n",
              "│ int64 │ varchar  │ int64 │ varchar │      varchar      │    varchar     │  varchar   │\n",
              "├───────┼──────────┼───────┼─────────┼───────────────────┼────────────────┼────────────┤\n",
              "│     1 │ Person_1 │    26 │ City_A  │ 1707723440.459401 │ F2RYTfijGmFRFA │ NULL       │\n",
              "│     2 │ Person_2 │    27 │ City_A  │ 1707723440.459401 │ PEP+6ABW2o1Gaw │ NULL       │\n",
              "│     5 │ Person_5 │    35 │ City_B  │ 1707723443.269835 │ O5T5Qdnoog/tQA │ Job_5      │\n",
              "│     4 │ Person_4 │    34 │ City_B  │ 1707723443.269835 │ ULT9BQveHoicQg │ Job_4      │\n",
              "│     8 │ Person_8 │    38 │ City_B  │ 1707723443.269835 │ qkyKZ/ehGPPjCg │ Job_8      │\n",
              "│     7 │ Person_7 │    37 │ City_B  │ 1707723443.269835 │ 8t6yFHpTlF3kzA │ Job_7      │\n",
              "│     3 │ Person_3 │    33 │ City_B  │ 1707723443.269835 │ E7njcMx8ukqX2g │ Job_3      │\n",
              "│     6 │ Person_6 │    36 │ City_B  │ 1707723443.269835 │ Cfgc7odEOCWGyg │ Job_6      │\n",
              "└───────┴──────────┴───────┴─────────┴───────────────────┴────────────────┴────────────┘"
            ]
          },
          "execution_count": 41,
          "metadata": {},
          "output_type": "execute_result"
        }
      ],
      "source": [
        "info = pipeline.run(people_2(), table_name=\"people_with_id\", write_disposition=\"merge\", primary_key=\"id\")\n",
        "conn.sql('select * from people_with_id;')"
      ]
    },
    {
      "cell_type": "code",
      "execution_count": 42,
      "metadata": {},
      "outputs": [
        {
          "data": {
            "text/plain": [
              "┌──────────┐\n",
              "│ sum(age) │\n",
              "│  int128  │\n",
              "├──────────┤\n",
              "│      266 │\n",
              "└──────────┘"
            ]
          },
          "execution_count": 42,
          "metadata": {},
          "output_type": "execute_result"
        }
      ],
      "source": [
        "conn.sql(\"SELECT sum(age) FROM people_with_id\")"
      ]
    },
    {
      "cell_type": "code",
      "execution_count": null,
      "metadata": {},
      "outputs": [],
      "source": []
    }
  ],
  "metadata": {
    "colab": {
      "provenance": []
    },
    "kernelspec": {
      "display_name": "Python 3",
      "name": "python3"
    },
    "language_info": {
      "codemirror_mode": {
        "name": "ipython",
        "version": 3
      },
      "file_extension": ".py",
      "mimetype": "text/x-python",
      "name": "python",
      "nbconvert_exporter": "python",
      "pygments_lexer": "ipython3",
      "version": "3.10.13"
    }
  },
  "nbformat": 4,
  "nbformat_minor": 0
}
