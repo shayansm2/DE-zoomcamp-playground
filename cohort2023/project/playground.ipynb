{
 "cells": [
  {
   "cell_type": "code",
   "execution_count": 15,
   "metadata": {
    "collapsed": true
   },
   "outputs": [],
   "source": [
    "import pandas as pd\n",
    "\n",
    "json_file_path = '2020-01-02-3.json'"
   ]
  },
  {
   "cell_type": "code",
   "execution_count": 17,
   "outputs": [],
   "source": [
    "file_path = '../2021-02-03-12.json'  # todo remove debug\n",
    "chunk_size = 5000\n",
    "df_iter = pd.read_json(file_path, lines=True, chunksize=chunk_size)"
   ],
   "metadata": {
    "collapsed": false
   }
  },
  {
   "cell_type": "code",
   "execution_count": 19,
   "outputs": [],
   "source": [
    "data = next(df_iter)"
   ],
   "metadata": {
    "collapsed": false
   }
  },
  {
   "cell_type": "code",
   "execution_count": 21,
   "outputs": [
    {
     "data": {
      "text/plain": "               id              type  public                created_at\n0     15049798115         PushEvent    True 2021-02-03 12:00:00+00:00\n1     15049798116       CreateEvent    True 2021-02-03 12:00:00+00:00\n2     15049798121       CreateEvent    True 2021-02-03 12:00:00+00:00\n3     15049798124         PushEvent    True 2021-02-03 12:00:00+00:00\n4     15049798136       CreateEvent    True 2021-02-03 12:00:00+00:00\n...           ...               ...     ...                       ...\n4995  15049823018       IssuesEvent    True 2021-02-03 12:02:00+00:00\n4996  15049823022         PushEvent    True 2021-02-03 12:02:01+00:00\n4997  15049823031         PushEvent    True 2021-02-03 12:02:01+00:00\n4998  15049823045  PullRequestEvent    True 2021-02-03 12:02:01+00:00\n4999  15049823048       IssuesEvent    True 2021-02-03 12:02:01+00:00\n\n[5000 rows x 4 columns]",
      "text/html": "<div>\n<style scoped>\n    .dataframe tbody tr th:only-of-type {\n        vertical-align: middle;\n    }\n\n    .dataframe tbody tr th {\n        vertical-align: top;\n    }\n\n    .dataframe thead th {\n        text-align: right;\n    }\n</style>\n<table border=\"1\" class=\"dataframe\">\n  <thead>\n    <tr style=\"text-align: right;\">\n      <th></th>\n      <th>id</th>\n      <th>type</th>\n      <th>public</th>\n      <th>created_at</th>\n    </tr>\n  </thead>\n  <tbody>\n    <tr>\n      <th>0</th>\n      <td>15049798115</td>\n      <td>PushEvent</td>\n      <td>True</td>\n      <td>2021-02-03 12:00:00+00:00</td>\n    </tr>\n    <tr>\n      <th>1</th>\n      <td>15049798116</td>\n      <td>CreateEvent</td>\n      <td>True</td>\n      <td>2021-02-03 12:00:00+00:00</td>\n    </tr>\n    <tr>\n      <th>2</th>\n      <td>15049798121</td>\n      <td>CreateEvent</td>\n      <td>True</td>\n      <td>2021-02-03 12:00:00+00:00</td>\n    </tr>\n    <tr>\n      <th>3</th>\n      <td>15049798124</td>\n      <td>PushEvent</td>\n      <td>True</td>\n      <td>2021-02-03 12:00:00+00:00</td>\n    </tr>\n    <tr>\n      <th>4</th>\n      <td>15049798136</td>\n      <td>CreateEvent</td>\n      <td>True</td>\n      <td>2021-02-03 12:00:00+00:00</td>\n    </tr>\n    <tr>\n      <th>...</th>\n      <td>...</td>\n      <td>...</td>\n      <td>...</td>\n      <td>...</td>\n    </tr>\n    <tr>\n      <th>4995</th>\n      <td>15049823018</td>\n      <td>IssuesEvent</td>\n      <td>True</td>\n      <td>2021-02-03 12:02:00+00:00</td>\n    </tr>\n    <tr>\n      <th>4996</th>\n      <td>15049823022</td>\n      <td>PushEvent</td>\n      <td>True</td>\n      <td>2021-02-03 12:02:01+00:00</td>\n    </tr>\n    <tr>\n      <th>4997</th>\n      <td>15049823031</td>\n      <td>PushEvent</td>\n      <td>True</td>\n      <td>2021-02-03 12:02:01+00:00</td>\n    </tr>\n    <tr>\n      <th>4998</th>\n      <td>15049823045</td>\n      <td>PullRequestEvent</td>\n      <td>True</td>\n      <td>2021-02-03 12:02:01+00:00</td>\n    </tr>\n    <tr>\n      <th>4999</th>\n      <td>15049823048</td>\n      <td>IssuesEvent</td>\n      <td>True</td>\n      <td>2021-02-03 12:02:01+00:00</td>\n    </tr>\n  </tbody>\n</table>\n<p>5000 rows × 4 columns</p>\n</div>"
     },
     "execution_count": 21,
     "metadata": {},
     "output_type": "execute_result"
    }
   ],
   "source": [
    "data[['id', 'type', 'public', 'created_at']]"
   ],
   "metadata": {
    "collapsed": false
   }
  },
  {
   "cell_type": "code",
   "execution_count": null,
   "outputs": [],
   "source": [],
   "metadata": {
    "collapsed": false
   }
  }
 ],
 "metadata": {
  "kernelspec": {
   "display_name": "Python 3",
   "language": "python",
   "name": "python3"
  },
  "language_info": {
   "codemirror_mode": {
    "name": "ipython",
    "version": 2
   },
   "file_extension": ".py",
   "mimetype": "text/x-python",
   "name": "python",
   "nbconvert_exporter": "python",
   "pygments_lexer": "ipython2",
   "version": "2.7.6"
  }
 },
 "nbformat": 4,
 "nbformat_minor": 0
}
